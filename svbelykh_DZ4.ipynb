{
 "cells": [
  {
   "cell_type": "markdown",
   "metadata": {},
   "source": [
    "### Задание 1.1"
   ]
  },
  {
   "cell_type": "code",
   "execution_count": 400,
   "metadata": {
    "collapsed": true
   },
   "outputs": [],
   "source": [
    "text = \"\"\"Param param \n",
    "pam\n",
    "turu turu tu \"\"\""
   ]
  },
  {
   "cell_type": "code",
   "execution_count": 401,
   "metadata": {
    "collapsed": true
   },
   "outputs": [],
   "source": [
    "with open('test.txt','w') as f:\n",
    "    f.write(text)"
   ]
  },
  {
   "cell_type": "code",
   "execution_count": 402,
   "metadata": {
    "collapsed": true
   },
   "outputs": [],
   "source": [
    "ff = open('test.txt','r') "
   ]
  },
  {
   "cell_type": "code",
   "execution_count": 403,
   "metadata": {
    "collapsed": false
   },
   "outputs": [
    {
     "data": {
      "text/plain": [
       "'Param param \\npam\\nturu turu tu '"
      ]
     },
     "execution_count": 403,
     "metadata": {},
     "output_type": "execute_result"
    }
   ],
   "source": [
    "ff.read()"
   ]
  },
  {
   "cell_type": "code",
   "execution_count": 404,
   "metadata": {
    "collapsed": false
   },
   "outputs": [],
   "source": [
    "def copy_file(a,b): \n",
    "    with open(a,'r') as f1,open(b,'w') as f2:\n",
    "        c = f1.read()\n",
    "        f2.write(c)\n",
    "    return"
   ]
  },
  {
   "cell_type": "code",
   "execution_count": 405,
   "metadata": {
    "collapsed": false
   },
   "outputs": [],
   "source": [
    "copy_file('test.txt','test3.txt')"
   ]
  },
  {
   "cell_type": "code",
   "execution_count": 406,
   "metadata": {
    "collapsed": false
   },
   "outputs": [
    {
     "data": {
      "text/plain": [
       "'Param param \\npam\\nturu turu tu '"
      ]
     },
     "execution_count": 406,
     "metadata": {},
     "output_type": "execute_result"
    }
   ],
   "source": [
    "f = open('test3.txt','r')\n",
    "f.read()"
   ]
  },
  {
   "cell_type": "markdown",
   "metadata": {},
   "source": [
    "### Задание 1.2"
   ]
  },
  {
   "cell_type": "code",
   "execution_count": 395,
   "metadata": {
    "collapsed": true
   },
   "outputs": [],
   "source": [
    "text = \"\"\"apple - malum, pomum, popula\n",
    "fruit - baca, bacca, popum\n",
    "punishment - malum, multa\n",
    "\"\"\""
   ]
  },
  {
   "cell_type": "code",
   "execution_count": 396,
   "metadata": {
    "collapsed": true
   },
   "outputs": [],
   "source": [
    "with open('sl_1.txt','w') as s:\n",
    "    s.write(text)\n",
    "    "
   ]
  },
  {
   "cell_type": "code",
   "execution_count": 207,
   "metadata": {
    "collapsed": false
   },
   "outputs": [],
   "source": [
    "def eng_lat_2_lat_eng(fail_1,fail_2): \n",
    "    import re\n",
    "    b = {}\n",
    "    c = {}\n",
    "    with open(fail_1,'r') as s,open(fail_2,'w') as s2:\n",
    "        for line2 in s.xreadlines():\n",
    "            lt = re.split('-|,',re.sub('(\\s)','',line2))\n",
    "            b[lt[0]]=lt[1:]\n",
    "        for x1 in b:\n",
    "            for y in b[x1]:\n",
    "                c.setdefault(y,[]).append(x1)\n",
    "        for k in sorted(c):\n",
    "             \n",
    "            s2.write (k+' - ')\n",
    "            s2.write (', '.join(sorted(c[k])))\n",
    "            s2.write(\"\\n\")\n",
    "        return\n",
    "            "
   ]
  },
  {
   "cell_type": "code",
   "execution_count": 210,
   "metadata": {
    "collapsed": false
   },
   "outputs": [],
   "source": [
    "eng_lat_2_lat_eng('sl_1.txt','sl_2.txt')"
   ]
  },
  {
   "cell_type": "code",
   "execution_count": 211,
   "metadata": {
    "collapsed": false
   },
   "outputs": [
    {
     "name": "stdout",
     "output_type": "stream",
     "text": [
      "baca - fruit\r\n",
      "bacca - fruit\r\n",
      "malum - apple, punishment\r\n",
      "multa - punishment\r\n",
      "pomum - apple\r\n",
      "popula - apple\r\n",
      "popum - fruit\r\n"
     ]
    }
   ],
   "source": [
    "!cat sl_2.txt\n",
    "    \n",
    "     "
   ]
  },
  {
   "cell_type": "code",
   "execution_count": 212,
   "metadata": {
    "collapsed": true
   },
   "outputs": [],
   "source": [
    "import chardet"
   ]
  },
  {
   "cell_type": "markdown",
   "metadata": {},
   "source": [
    "### Задание 1.3"
   ]
  },
  {
   "cell_type": "code",
   "execution_count": 213,
   "metadata": {
    "collapsed": false
   },
   "outputs": [],
   "source": [
    "def f1(a,encoding=None):\n",
    "    enc = {}\n",
    "    ret = \"\"\n",
    "    if encoding == None:\n",
    "        try:\n",
    "            enc =  chardet.detect(a)\n",
    "        except: ret = \"ни аслилил, пишу длину исходника - \"+str(len(a))\n",
    "        else: ret =  \"асилил - кодировка \"+ enc['encoding'] + \" - \"+ str(len(a.decode(enc['encoding'])))\n",
    "    else:\n",
    "        try:\n",
    "            ret = len(a.decode(encoding))\n",
    "        except: ret = \"херня а не кодировка -\"+str(len(a))\n",
    "    return ret \n",
    "     \n",
    "    \n",
    " \n",
    "\n",
    "    \n",
    "     "
   ]
  },
  {
   "cell_type": "code",
   "execution_count": 214,
   "metadata": {
    "collapsed": false
   },
   "outputs": [
    {
     "name": "stdout",
     "output_type": "stream",
     "text": [
      "херня а не кодировка -12\n"
     ]
    }
   ],
   "source": [
    "print f1(u'ааааа'.encode('utf_16'), encoding='utf_116')"
   ]
  },
  {
   "cell_type": "code",
   "execution_count": 215,
   "metadata": {
    "collapsed": false
   },
   "outputs": [
    {
     "name": "stdout",
     "output_type": "stream",
     "text": [
      "строка\n"
     ]
    }
   ],
   "source": [
    "print u'строка'.encode('utf-8').decode('utf-8')"
   ]
  },
  {
   "cell_type": "markdown",
   "metadata": {},
   "source": [
    "### Задание 2.1 "
   ]
  },
  {
   "cell_type": "markdown",
   "metadata": {
    "collapsed": true
   },
   "source": [
    "\n",
    "\n",
    "Напишите функцию, которая выписывает список файлов в данной директории и сортирует их в соответствии с их размером. Функция должна получать путь к директории в качестве аргумента и печатать на экран имена всех файлов в ней и их размеры, причем первыми должны идти файлы с наибольшими размерами, а в случае одинакового размер файлы сортируются по алфавиту.\n",
    "\n",
    "Указание. Изучите функции listdir и stat из модуля os и функции isfile и join из модуля os.path. \n",
    "\n",
    "\n",
    "\n",
    "def get_dir_content_info(dir_path):\n",
    "    # Допишите код\n",
    "    return\n",
    "\n"
   ]
  },
  {
   "cell_type": "code",
   "execution_count": 216,
   "metadata": {
    "collapsed": false
   },
   "outputs": [],
   "source": [
    "import os\n",
    "\n"
   ]
  },
  {
   "cell_type": "code",
   "execution_count": 217,
   "metadata": {
    "collapsed": false
   },
   "outputs": [],
   "source": [
    "def eng_rus_2_rus_eng(a):\n",
    "    name = [(x,os.path.getsize(x)) for x in  os.listdir(a) if os.path.isfile(x)]\n",
    "    end = [sorted(name, key = lambda x: (x[1],x[0]))]\n",
    "    for (i) in end:\n",
    "        for k in i:\n",
    "            print k[0],k[1]\n",
    "    return"
   ]
  },
  {
   "cell_type": "code",
   "execution_count": 218,
   "metadata": {
    "collapsed": false
   },
   "outputs": [
    {
     "name": "stdout",
     "output_type": "stream",
     "text": [
      "sl_11.txt 0\n",
      "untitled.txt 0\n",
      "svbelykh.txt 23\n",
      "test3.txt 30\n",
      "test_koi.txt 64\n",
      "test_win.txt 64\n",
      "sl_1.txt 82\n",
      "test.txt 93\n",
      "config.ini 95\n",
      "sl_22.txt 97\n",
      "sl_2.txt 115\n",
      "Untitled3.ipynb 1027\n",
      "Untitled2.ipynb 2345\n",
      "svbelykhDZ1_.ipynb 2802\n",
      "Untitled.ipynb 3135\n",
      "svbelykhDZ2.ipynb 3503\n",
      "svbelykh_DZ3.ipynb 11972\n",
      "svbelykh_DZ4.ipynb 13074\n",
      "Untitled1.ipynb 340617\n"
     ]
    }
   ],
   "source": [
    "eng_rus_2_rus_eng('.')"
   ]
  },
  {
   "cell_type": "markdown",
   "metadata": {
    "collapsed": true
   },
   "source": [
    "### Задание 2.2"
   ]
  },
  {
   "cell_type": "code",
   "execution_count": null,
   "metadata": {
    "collapsed": true
   },
   "outputs": [],
   "source": [
    "def eng_lat_2_lat_eng(fail_1,fail_2): \n",
    "    import re\n",
    "    b = {}\n",
    "    c = {}\n",
    "    with open(fail_1,'r') as s,open(fail_2,'w') as s2:\n",
    "        for line2 in s.xreadlines():\n",
    "            lt = re.split('-|,',re.sub('(\\s)','',line2))\n",
    "            b[lt[0]]=lt[1:]\n",
    "        for x1 in b:\n",
    "            for y in b[x1]:\n",
    "                c.setdefault(y,[]).append(x1)\n",
    "        for k in sorted(c):\n",
    "            # Здесь можно воспользоватся функцией my_decoder из Лекции и перевести c и к в unicode\n",
    "            # my_decoder(c)\n",
    "            # my_decoder(k)\n",
    "            s2.write (k+' - ')\n",
    "            s2.write (', '.join(sorted(c[k])))\n",
    "            s2.write(\"\\n\")\n",
    "     \n",
    "    return"
   ]
  },
  {
   "cell_type": "code",
   "execution_count": null,
   "metadata": {
    "collapsed": true
   },
   "outputs": [],
   "source": []
  }
 ],
 "metadata": {
  "kernelspec": {
   "display_name": "Python 2",
   "language": "python",
   "name": "python2"
  },
  "language_info": {
   "codemirror_mode": {
    "name": "ipython",
    "version": 2
   },
   "file_extension": ".py",
   "mimetype": "text/x-python",
   "name": "python",
   "nbconvert_exporter": "python",
   "pygments_lexer": "ipython2",
   "version": "2.7.13"
  }
 },
 "nbformat": 4,
 "nbformat_minor": 2
}
